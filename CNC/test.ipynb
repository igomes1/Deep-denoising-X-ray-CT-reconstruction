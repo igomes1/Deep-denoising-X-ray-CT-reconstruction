{
 "cells": [
  {
   "cell_type": "code",
   "execution_count": 20,
   "id": "61355a29",
   "metadata": {},
   "outputs": [],
   "source": [
    "from models import multi_conv as mc\n",
    "from weakly_convex_ridge_regularizer.models import multi_conv as mct\n",
    "from weakly_convex_ridge_regularizer.models import spline_module as smc\n",
    "from models import spline_module as sm\n",
    "%load_ext autoreload\n",
    "%autoreload 2"
   ]
  },
  {
   "cell_type": "code",
   "execution_count": 21,
   "id": "c20b65c9",
   "metadata": {},
   "outputs": [],
   "source": [
    "import numpy as np\n",
    "import torch \n",
    "import jax.numpy as jnp"
   ]
  },
  {
   "cell_type": "code",
   "execution_count": 22,
   "id": "1782b8ca",
   "metadata": {},
   "outputs": [
    {
     "name": "stdout",
     "output_type": "stream",
     "text": [
      "ps_1: 169.39486694335938\n",
      "ps_2: 169.3951416015625\n",
      "ratio: 0.9999983906745911\n",
      "ps_1: -256.1494140625\n",
      "ps_2: -256.1494140625\n",
      "ratio: 1.0\n"
     ]
    }
   ],
   "source": [
    "conv_layers = mc.MultiConv2d()\n",
    "conv_layers.check_tranpose()\n",
    "\n",
    "conv_layers_t = mct.MultiConv2d()\n",
    "conv_layers_t.check_tranpose()"
   ]
  },
  {
   "cell_type": "markdown",
   "id": "b12f6941",
   "metadata": {},
   "source": [
    "# Check spline_module.py (avec spline_autograd_func.py)"
   ]
  },
  {
   "cell_type": "markdown",
   "id": "90a036c0",
   "metadata": {},
   "source": [
    "! j ai testé que les forward de spline_autograd_func.py\n"
   ]
  },
  {
   "cell_type": "code",
   "execution_count": 23,
   "id": "7275e105",
   "metadata": {},
   "outputs": [],
   "source": [
    "# Paramètres du test\n",
    "spline_torch = smc.LinearSpline(num_activations = 1, num_knots = 10, x_min =-2, x_max = 2, init = 'identity', slope_max=-1, slope_min=1, antisymmetric=False, clamp=True,)\n",
    "spline_jax = sm.LinearSpline(num_activations = 1, num_knots = 10, x_min =-2, x_max = 2, init = 'identity', slope_max=-1, slope_min=1, antisymmetric=False, clamp=True,)"
   ]
  },
  {
   "cell_type": "code",
   "execution_count": 24,
   "id": "a55e795b",
   "metadata": {},
   "outputs": [
    {
     "data": {
      "text/plain": [
       "array([[ 1.8681194 ,  0.18892899,  1.8907374 ,  0.85926396],\n",
       "       [ 0.7909153 , -1.135642  ,  1.9050978 , -1.9750789 ],\n",
       "       [-0.98807055, -0.26083386,  1.1175317 , -1.2092597 ]],\n",
       "      dtype=float32)"
      ]
     },
     "execution_count": 24,
     "metadata": {},
     "output_type": "execute_result"
    }
   ],
   "source": [
    "np.random.seed(4)\n",
    "x_np = np.random.uniform(-2, 2, size=(3,4)).astype(np.float32)\n",
    "x_np"
   ]
  },
  {
   "cell_type": "markdown",
   "id": "d6a1d1c2",
   "metadata": {},
   "source": [
    "check forward"
   ]
  },
  {
   "cell_type": "code",
   "execution_count": 25,
   "id": "45b631dc",
   "metadata": {},
   "outputs": [
    {
     "data": {
      "text/plain": [
       "tensor([[-4.6667, -3.3000, -4.6667, -3.9704],\n",
       "        [-3.9020, -1.9755, -4.6667, -1.5556],\n",
       "        [-2.1230, -2.8503, -4.2286, -1.9019]], grad_fn=<ViewBackward0>)"
      ]
     },
     "execution_count": 25,
     "metadata": {},
     "output_type": "execute_result"
    }
   ],
   "source": [
    "x_torch = torch.tensor(x_np)\n",
    "spline_torch(x_torch)"
   ]
  },
  {
   "cell_type": "code",
   "execution_count": 26,
   "id": "47d62116",
   "metadata": {},
   "outputs": [
    {
     "data": {
      "text/plain": [
       "Array([[-4.666667 , -3.3000405, -4.666667 , -3.9703753],\n",
       "       [-3.9020264, -1.9754691, -4.666667 , -1.5555556],\n",
       "       [-2.1230407, -2.8502772, -4.228643 , -1.9018514]], dtype=float32)"
      ]
     },
     "execution_count": 26,
     "metadata": {},
     "output_type": "execute_result"
    }
   ],
   "source": [
    "x_jax = jnp.array(x_np)\n",
    "spline_jax(x_jax)"
   ]
  },
  {
   "cell_type": "markdown",
   "id": "daefdf02",
   "metadata": {},
   "source": [
    "check derivative"
   ]
  },
  {
   "cell_type": "code",
   "execution_count": 27,
   "id": "2c610f1d",
   "metadata": {},
   "outputs": [
    {
     "data": {
      "text/plain": [
       "tensor([[ 0.0000, -1.0000,  0.0000, -1.0000],\n",
       "        [-1.0000, -1.0000,  0.0000,  0.0000],\n",
       "        [-1.0000, -1.0000, -1.0000, -1.0000]], grad_fn=<ViewBackward0>)"
      ]
     },
     "execution_count": 27,
     "metadata": {},
     "output_type": "execute_result"
    }
   ],
   "source": [
    "spline_torch.derivative(x_torch)"
   ]
  },
  {
   "cell_type": "code",
   "execution_count": 28,
   "id": "2b4bf2d7",
   "metadata": {},
   "outputs": [
    {
     "data": {
      "text/plain": [
       "Array([[ 0.        , -1.0000005 ,  0.        , -0.99999994],\n",
       "       [-0.99999994, -0.99999994,  0.        ,  0.        ],\n",
       "       [-0.99999994, -0.99999994, -1.0000005 , -0.99999994]],      dtype=float32)"
      ]
     },
     "execution_count": 28,
     "metadata": {},
     "output_type": "execute_result"
    }
   ],
   "source": [
    "spline_jax.derivative(x_jax)"
   ]
  },
  {
   "cell_type": "markdown",
   "id": "1ae7398d",
   "metadata": {},
   "source": [
    "check integrate"
   ]
  },
  {
   "cell_type": "code",
   "execution_count": 29,
   "id": "514e1475",
   "metadata": {},
   "outputs": [
    {
     "name": "stdout",
     "output_type": "stream",
     "text": [
      "**** Updating integrated spline coefficients ****\n"
     ]
    },
    {
     "data": {
      "text/plain": [
       "tensor([[-6.0512,  0.8512, -6.1568, -1.5856],\n",
       "        [-1.3166,  4.3451, -6.2238,  5.7390],\n",
       "        [ 4.0426,  2.2343, -2.6444,  4.4878]], grad_fn=<ViewBackward0>)"
      ]
     },
     "execution_count": 29,
     "metadata": {},
     "output_type": "execute_result"
    }
   ],
   "source": [
    "spline_torch.integrate(x_torch)"
   ]
  },
  {
   "cell_type": "code",
   "execution_count": 30,
   "id": "9194e659",
   "metadata": {},
   "outputs": [
    {
     "name": "stdout",
     "output_type": "stream",
     "text": [
      "**** Updating integrated spline coefficients ****\n"
     ]
    },
    {
     "data": {
      "text/plain": [
       "Array([[-6.0512247,  0.8511638, -6.156777 , -1.5856433],\n",
       "       [-1.3166085,  4.345057 , -6.2237926,  5.7390122],\n",
       "       [ 4.042646 ,  2.234256 , -2.6444144,  4.4877768]], dtype=float32)"
      ]
     },
     "execution_count": 30,
     "metadata": {},
     "output_type": "execute_result"
    }
   ],
   "source": [
    "spline_jax.integrate(x_jax)"
   ]
  },
  {
   "cell_type": "markdown",
   "id": "2747059f",
   "metadata": {},
   "source": [
    "check get_clip_equivalent"
   ]
  },
  {
   "cell_type": "code",
   "execution_count": 31,
   "id": "5213abe8",
   "metadata": {},
   "outputs": [
    {
     "data": {
      "text/plain": [
       "tensor([[[[-1.5556, -2.9222, -1.5556, -2.2518],\n",
       "          [-2.3202, -4.2468, -1.5556, -4.6667],\n",
       "          [-4.0992, -3.3719, -1.9936, -4.3204]]]], grad_fn=<AddBackward0>)"
      ]
     },
     "execution_count": 31,
     "metadata": {},
     "output_type": "execute_result"
    }
   ],
   "source": [
    "spline_torch.get_clip_equivalent()(x_torch)"
   ]
  },
  {
   "cell_type": "code",
   "execution_count": 32,
   "id": "2d13124e",
   "metadata": {},
   "outputs": [
    {
     "data": {
      "text/plain": [
       "Array([[[[-1.5555553, -2.922182 , -1.5555553, -2.2518473],\n",
       "         [-2.320196 , -4.246753 , -1.5555553, -4.666667 ],\n",
       "         [-4.099182 , -3.3719451, -1.9935796, -4.320371 ]]]],      dtype=float32)"
      ]
     },
     "execution_count": 32,
     "metadata": {},
     "output_type": "execute_result"
    }
   ],
   "source": [
    "spline_jax.get_clip_equivalent()(x_jax)"
   ]
  },
  {
   "cell_type": "code",
   "execution_count": 33,
   "id": "ddf43b08",
   "metadata": {},
   "outputs": [
    {
     "data": {
      "text/plain": [
       "tensor([[[[10.1709,  1.9624, 10.2940,  4.9206],\n",
       "          [ 4.5984, -2.5617, 10.3722, -4.6085],\n",
       "          [-2.1445,  0.2295,  6.1803, -2.7616]]]], grad_fn=<MulBackward0>)"
      ]
     },
     "execution_count": 33,
     "metadata": {},
     "output_type": "execute_result"
    }
   ],
   "source": [
    "spline_torch.get_clip_equivalent().integrate(x_torch)"
   ]
  },
  {
   "cell_type": "code",
   "execution_count": 34,
   "id": "fc66b9b6",
   "metadata": {},
   "outputs": [
    {
     "data": {
      "text/plain": [
       "Array([[[[10.170874  ,  1.9624476 , 10.294016  ,  4.920626  ],\n",
       "         [ 4.598432  , -2.5616682 , 10.3722    , -4.608518  ],\n",
       "         [-2.1444788 ,  0.22953984,  6.180272  , -2.761646  ]]]],      dtype=float32)"
      ]
     },
     "execution_count": 34,
     "metadata": {},
     "output_type": "execute_result"
    }
   ],
   "source": [
    "spline_jax.get_clip_equivalent().integrate(x_jax)"
   ]
  },
  {
   "cell_type": "code",
   "execution_count": 35,
   "id": "92883c74",
   "metadata": {},
   "outputs": [
    {
     "data": {
      "text/plain": [
       "tensor([[[-1.0000]]], grad_fn=<MaxBackward0>)"
      ]
     },
     "execution_count": 35,
     "metadata": {},
     "output_type": "execute_result"
    }
   ],
   "source": [
    "spline_torch.get_clip_equivalent().slope_max"
   ]
  },
  {
   "cell_type": "code",
   "execution_count": 36,
   "id": "fdadaac1",
   "metadata": {},
   "outputs": [
    {
     "data": {
      "text/plain": [
       "Array([[[-1.0000001]]], dtype=float32)"
      ]
     },
     "execution_count": 36,
     "metadata": {},
     "output_type": "execute_result"
    }
   ],
   "source": [
    "spline_jax.get_clip_equivalent().slope_max"
   ]
  },
  {
   "cell_type": "markdown",
   "id": "e4e241ad",
   "metadata": {},
   "source": [
    "nimp"
   ]
  },
  {
   "cell_type": "code",
   "execution_count": 37,
   "id": "49227177",
   "metadata": {},
   "outputs": [
    {
     "data": {
      "text/plain": [
       "tensor([[6.4761, 1.2080, 6.6243, 2.3614],\n",
       "        [2.2054, 0.3212, 6.7201, 0.1388],\n",
       "        [0.3723, 0.7704, 3.0573, 0.2984]])"
      ]
     },
     "execution_count": 37,
     "metadata": {},
     "output_type": "execute_result"
    }
   ],
   "source": [
    "x_torch.exp()"
   ]
  },
  {
   "cell_type": "code",
   "execution_count": 38,
   "id": "7845e7a7",
   "metadata": {},
   "outputs": [
    {
     "data": {
      "text/plain": [
       "Array([[6.4761057 , 1.2079551 , 6.6242514 , 2.361422  ],\n",
       "       [2.205414  , 0.3212158 , 6.720065  , 0.13875036],\n",
       "       [0.3722943 , 0.77040887, 3.0572984 , 0.2984181 ]], dtype=float32)"
      ]
     },
     "execution_count": 38,
     "metadata": {},
     "output_type": "execute_result"
    }
   ],
   "source": [
    "jnp.exp(x_jax)"
   ]
  },
  {
   "cell_type": "code",
   "execution_count": 39,
   "id": "da094ae3",
   "metadata": {},
   "outputs": [
    {
     "data": {
      "text/plain": [
       "Array([[ 1.8681194 ,  0.18892899,  1.8907374 ,  0.85926396],\n",
       "       [ 0.7909153 , -1.135642  ,  1.9050978 , -1.9750789 ],\n",
       "       [-0.98807055, -0.26083386,  1.1175317 , -1.2092597 ]],      dtype=float32)"
      ]
     },
     "execution_count": 39,
     "metadata": {},
     "output_type": "execute_result"
    }
   ],
   "source": [
    "x_jax"
   ]
  },
  {
   "cell_type": "code",
   "execution_count": 40,
   "id": "9f64621b",
   "metadata": {},
   "outputs": [],
   "source": [
    "def activation(x, sigma=None, skip_scaling=False):\n",
    "        # get scaling, which depends on sigma and on the channel\n",
    "       x = x *2 \n",
    "       y = x + 1\n",
    "       return y\n",
    "\n"
   ]
  },
  {
   "cell_type": "code",
   "execution_count": 41,
   "id": "aa55eba4",
   "metadata": {},
   "outputs": [
    {
     "data": {
      "text/plain": [
       "tensor([[ 1.8681,  0.1889,  1.8907,  0.8593],\n",
       "        [ 0.7909, -1.1356,  1.9051, -1.9751],\n",
       "        [-0.9881, -0.2608,  1.1175, -1.2093]])"
      ]
     },
     "execution_count": 41,
     "metadata": {},
     "output_type": "execute_result"
    }
   ],
   "source": [
    "x_torch"
   ]
  },
  {
   "cell_type": "code",
   "execution_count": 42,
   "id": "347c61dc",
   "metadata": {},
   "outputs": [
    {
     "data": {
      "text/plain": [
       "tensor([[ 1.8681,  0.1889,  1.8907,  0.8593],\n",
       "        [ 0.7909, -1.1356,  1.9051, -1.9751],\n",
       "        [-0.9881, -0.2608,  1.1175, -1.2093]])"
      ]
     },
     "execution_count": 42,
     "metadata": {},
     "output_type": "execute_result"
    }
   ],
   "source": [
    "x_torch"
   ]
  },
  {
   "cell_type": "code",
   "execution_count": 43,
   "id": "c830daa8",
   "metadata": {},
   "outputs": [
    {
     "data": {
      "text/plain": [
       "tensor([[ 4.7362,  1.3779,  4.7815,  2.7185],\n",
       "        [ 2.5818, -1.2713,  4.8102, -2.9502],\n",
       "        [-0.9761,  0.4783,  3.2351, -1.4185]])"
      ]
     },
     "execution_count": 43,
     "metadata": {},
     "output_type": "execute_result"
    }
   ],
   "source": [
    "y_torch = activation(x_torch)\n",
    "y_torch"
   ]
  },
  {
   "cell_type": "code",
   "execution_count": 44,
   "id": "c4494429",
   "metadata": {},
   "outputs": [
    {
     "data": {
      "text/plain": [
       "Array([[ 1.8681194 ,  0.18892899,  1.8907374 ,  0.85926396],\n",
       "       [ 0.7909153 , -1.135642  ,  1.9050978 , -1.9750789 ],\n",
       "       [-0.98807055, -0.26083386,  1.1175317 , -1.2092597 ]],      dtype=float32)"
      ]
     },
     "execution_count": 44,
     "metadata": {},
     "output_type": "execute_result"
    }
   ],
   "source": [
    "x_jax"
   ]
  },
  {
   "cell_type": "code",
   "execution_count": 45,
   "id": "17c3de58",
   "metadata": {},
   "outputs": [
    {
     "data": {
      "text/plain": [
       "Array([[ 4.7362385 ,  1.3778579 ,  4.781475  ,  2.7185278 ],\n",
       "       [ 2.5818305 , -1.2712841 ,  4.810196  , -2.9501579 ],\n",
       "       [-0.9761411 ,  0.47833228,  3.2350633 , -1.4185195 ]],      dtype=float32)"
      ]
     },
     "execution_count": 45,
     "metadata": {},
     "output_type": "execute_result"
    }
   ],
   "source": [
    "y_jax = activation(x_jax) \n",
    "y_jax"
   ]
  },
  {
   "cell_type": "code",
   "execution_count": 46,
   "id": "da201655",
   "metadata": {},
   "outputs": [
    {
     "data": {
      "text/plain": [
       "tensor(3.0517)"
      ]
     },
     "execution_count": 46,
     "metadata": {},
     "output_type": "execute_result"
    }
   ],
   "source": [
    "torch.sum(x_torch, dim = (1,0))"
   ]
  },
  {
   "cell_type": "code",
   "execution_count": 47,
   "id": "db73bf66",
   "metadata": {},
   "outputs": [
    {
     "data": {
      "text/plain": [
       "Array(3.0517094, dtype=float32)"
      ]
     },
     "execution_count": 47,
     "metadata": {},
     "output_type": "execute_result"
    }
   ],
   "source": [
    "jnp.sum(x_jax, axis = (1,0))"
   ]
  },
  {
   "cell_type": "code",
   "execution_count": 48,
   "id": "836d6a33",
   "metadata": {},
   "outputs": [
    {
     "data": {
      "text/plain": [
       "Array([[ 1.8681194 ,  0.18892899,  1.8907374 ,  0.85926396],\n",
       "       [ 0.7909153 , -1.135642  ,  1.9050978 , -1.9750789 ],\n",
       "       [-0.98807055, -0.26083386,  1.1175317 , -1.2092597 ]],      dtype=float32)"
      ]
     },
     "execution_count": 48,
     "metadata": {},
     "output_type": "execute_result"
    }
   ],
   "source": [
    "x_jax"
   ]
  },
  {
   "cell_type": "code",
   "execution_count": 49,
   "id": "17b15beb",
   "metadata": {},
   "outputs": [
    {
     "ename": "RuntimeError",
     "evalue": "The expanded size of the tensor (3) must match the existing size (4) at non-singleton dimension 1.  Target sizes: [3, 3].  Tensor sizes: [3, 4]",
     "output_type": "error",
     "traceback": [
      "\u001b[1;31m---------------------------------------------------------------------------\u001b[0m",
      "\u001b[1;31mRuntimeError\u001b[0m                              Traceback (most recent call last)",
      "Cell \u001b[1;32mIn[49], line 1\u001b[0m\n\u001b[1;32m----> 1\u001b[0m x_torch\u001b[38;5;241m.\u001b[39mexpand((\u001b[38;5;241m3\u001b[39m,\u001b[38;5;241m3\u001b[39m))\n",
      "\u001b[1;31mRuntimeError\u001b[0m: The expanded size of the tensor (3) must match the existing size (4) at non-singleton dimension 1.  Target sizes: [3, 3].  Tensor sizes: [3, 4]"
     ]
    }
   ],
   "source": [
    "x_torch.expand((3,3))"
   ]
  },
  {
   "cell_type": "code",
   "execution_count": null,
   "id": "55d7d235",
   "metadata": {},
   "outputs": [
    {
     "data": {
      "text/plain": [
       "2"
      ]
     },
     "execution_count": 88,
     "metadata": {},
     "output_type": "execute_result"
    }
   ],
   "source": [
    "torch.linspace(1,2,5).expand((2,5)).shape[0]"
   ]
  },
  {
   "cell_type": "code",
   "execution_count": null,
   "id": "4a1012f9",
   "metadata": {},
   "outputs": [
    {
     "data": {
      "text/plain": [
       "(2, 5)"
      ]
     },
     "execution_count": 89,
     "metadata": {},
     "output_type": "execute_result"
    }
   ],
   "source": [
    "jnp.broadcast_to(jnp.linspace(1,5,5), (2,5)).shape"
   ]
  },
  {
   "cell_type": "code",
   "execution_count": null,
   "id": "eb2cd6f5",
   "metadata": {},
   "outputs": [
    {
     "data": {
      "text/plain": [
       "torch.Size([5])"
      ]
     },
     "execution_count": 86,
     "metadata": {},
     "output_type": "execute_result"
    }
   ],
   "source": [
    "torch.arange(1,6).shape"
   ]
  },
  {
   "cell_type": "code",
   "execution_count": null,
   "id": "7de8721a",
   "metadata": {},
   "outputs": [
    {
     "data": {
      "text/plain": [
       "(5,)"
      ]
     },
     "execution_count": 85,
     "metadata": {},
     "output_type": "execute_result"
    }
   ],
   "source": [
    "jnp.arange(1,6).shape"
   ]
  },
  {
   "cell_type": "code",
   "execution_count": null,
   "id": "0fad6f4d",
   "metadata": {},
   "outputs": [],
   "source": [
    "import equinox as eqx\n"
   ]
  },
  {
   "cell_type": "code",
   "execution_count": null,
   "id": "b6161400",
   "metadata": {},
   "outputs": [],
   "source": [
    "class class2(eqx.Module):\n",
    "    attr2: int\n",
    "\n",
    "    def __init__(self, att):\n",
    "        self.attr2 = att\n",
    "\n",
    "\n",
    "class class1(eqx.Module):\n",
    "    attr1: class2 \n",
    "    def __init__(self, x):\n",
    "            self.attr1 = class2(x)\n",
    "\n",
    "    def change(self,x):\n",
    "         object.__setattr__(self.attr1, 'attr2', self.attr1.attr2 + 2)\n"
   ]
  },
  {
   "cell_type": "code",
   "execution_count": null,
   "id": "35f9e2ff",
   "metadata": {},
   "outputs": [],
   "source": [
    "class_1 = class1(9)"
   ]
  },
  {
   "cell_type": "code",
   "execution_count": null,
   "id": "c321c606",
   "metadata": {},
   "outputs": [
    {
     "name": "stdout",
     "output_type": "stream",
     "text": [
      "11\n"
     ]
    }
   ],
   "source": [
    "# print(class_2.attr2)\n",
    "print(class_1.attr1.attr2)"
   ]
  },
  {
   "cell_type": "code",
   "execution_count": null,
   "id": "d59d0ab1",
   "metadata": {},
   "outputs": [],
   "source": [
    "object.__setattr__(class_2, 'attr2', 199)"
   ]
  },
  {
   "cell_type": "code",
   "execution_count": null,
   "id": "2b2831ce",
   "metadata": {},
   "outputs": [
    {
     "name": "stdout",
     "output_type": "stream",
     "text": [
      "207\n",
      "class2(attr2=207)\n"
     ]
    }
   ],
   "source": [
    "print(class_2.attr2)\n",
    "print(class_1.attr1)"
   ]
  },
  {
   "cell_type": "code",
   "execution_count": null,
   "id": "b12bb4eb",
   "metadata": {},
   "outputs": [],
   "source": [
    "class_1.change(2)\n"
   ]
  },
  {
   "cell_type": "code",
   "execution_count": null,
   "id": "5c53f0f2",
   "metadata": {},
   "outputs": [
    {
     "name": "stdout",
     "output_type": "stream",
     "text": [
      "13\n"
     ]
    }
   ],
   "source": [
    "print(class_1.attr1.attr2)"
   ]
  },
  {
   "cell_type": "code",
   "execution_count": 53,
   "id": "32b72e5f",
   "metadata": {},
   "outputs": [
    {
     "data": {
      "text/plain": [
       "Array([[ 1.8681194 ,  0.18892899,  1.8907374 ,  0.85926396],\n",
       "       [ 0.7909153 , -1.135642  ,  1.9050978 , -1.9750789 ],\n",
       "       [-0.98807055, -0.26083386,  1.1175317 , -1.2092597 ]],      dtype=float32)"
      ]
     },
     "execution_count": 53,
     "metadata": {},
     "output_type": "execute_result"
    }
   ],
   "source": [
    "x_jax.to_device(x_jax.device)"
   ]
  },
  {
   "cell_type": "code",
   "execution_count": 63,
   "id": "fec8dedd",
   "metadata": {},
   "outputs": [
    {
     "data": {
      "text/plain": [
       "Array([0, 1, 2, 3, 4, 5, 6, 7, 8, 9], dtype=int32)"
      ]
     },
     "execution_count": 63,
     "metadata": {},
     "output_type": "execute_result"
    }
   ],
   "source": [
    "jnp.arange(0 ,10)"
   ]
  },
  {
   "cell_type": "code",
   "execution_count": 77,
   "id": "91023aee",
   "metadata": {},
   "outputs": [],
   "source": [
    "a = x_jax.clone()\n",
    "\n",
    "a+=1"
   ]
  },
  {
   "cell_type": "code",
   "execution_count": 78,
   "id": "9766127a",
   "metadata": {},
   "outputs": [
    {
     "data": {
      "text/plain": [
       "Array([[ 2.8681192 ,  1.188929  ,  2.8907375 ,  1.8592639 ],\n",
       "       [ 1.7909153 , -0.13564205,  2.905098  , -0.97507894],\n",
       "       [ 0.01192945,  0.73916614,  2.1175318 , -0.20925975]],      dtype=float32)"
      ]
     },
     "execution_count": 78,
     "metadata": {},
     "output_type": "execute_result"
    }
   ],
   "source": [
    "a"
   ]
  },
  {
   "cell_type": "code",
   "execution_count": 79,
   "id": "83e26876",
   "metadata": {},
   "outputs": [
    {
     "data": {
      "text/plain": [
       "Array([[ 1.8681194 ,  0.18892899,  1.8907374 ,  0.85926396],\n",
       "       [ 0.7909153 , -1.135642  ,  1.9050978 , -1.9750789 ],\n",
       "       [-0.98807055, -0.26083386,  1.1175317 , -1.2092597 ]],      dtype=float32)"
      ]
     },
     "execution_count": 79,
     "metadata": {},
     "output_type": "execute_result"
    }
   ],
   "source": [
    "x_jax"
   ]
  },
  {
   "cell_type": "code",
   "execution_count": 74,
   "id": "5e1b3f85",
   "metadata": {},
   "outputs": [],
   "source": [
    "b =torch.clone(x_torch)\n",
    "b+=1"
   ]
  },
  {
   "cell_type": "code",
   "execution_count": 75,
   "id": "00b043a6",
   "metadata": {},
   "outputs": [
    {
     "data": {
      "text/plain": [
       "tensor([[ 1.8681,  0.1889,  1.8907,  0.8593],\n",
       "        [ 0.7909, -1.1356,  1.9051, -1.9751],\n",
       "        [-0.9881, -0.2608,  1.1175, -1.2093]])"
      ]
     },
     "execution_count": 75,
     "metadata": {},
     "output_type": "execute_result"
    }
   ],
   "source": [
    "x_torch"
   ]
  },
  {
   "cell_type": "code",
   "execution_count": 76,
   "id": "c432abdd",
   "metadata": {},
   "outputs": [
    {
     "data": {
      "text/plain": [
       "tensor([[ 2.8681,  1.1889,  2.8907,  1.8593],\n",
       "        [ 1.7909, -0.1356,  2.9051, -0.9751],\n",
       "        [ 0.0119,  0.7392,  2.1175, -0.2093]])"
      ]
     },
     "execution_count": 76,
     "metadata": {},
     "output_type": "execute_result"
    }
   ],
   "source": [
    "b"
   ]
  }
 ],
 "metadata": {
  "kernelspec": {
   "display_name": "proj2",
   "language": "python",
   "name": "python3"
  },
  "language_info": {
   "codemirror_mode": {
    "name": "ipython",
    "version": 3
   },
   "file_extension": ".py",
   "mimetype": "text/x-python",
   "name": "python",
   "nbconvert_exporter": "python",
   "pygments_lexer": "ipython3",
   "version": "3.11.11"
  }
 },
 "nbformat": 4,
 "nbformat_minor": 5
}
